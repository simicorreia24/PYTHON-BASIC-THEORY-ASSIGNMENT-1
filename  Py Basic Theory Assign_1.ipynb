{
 "cells": [
  {
   "cell_type": "code",
   "execution_count": 2,
   "id": "045c4e46",
   "metadata": {},
   "outputs": [],
   "source": [
    "# PYTHON BASIC THEORY ASSIGNMENT 1"
   ]
  },
  {
   "cell_type": "markdown",
   "id": "38300ef1",
   "metadata": {},
   "source": [
    "### 1. In the below elements which of them are values or an expression? eg:- values can be integer or string and expressions will be mathematical operators."
   ]
  },
  {
   "cell_type": "code",
   "execution_count": 3,
   "id": "d45b4b7a",
   "metadata": {},
   "outputs": [],
   "source": [
    "# (Expression *) \n",
    "# (Value 'hello') \n",
    "# ( value -87.8) \n",
    "# (Expression -) \n",
    "# ( Expression /) \n",
    "# ( Expression +) \n",
    "# ( Value 6)"
   ]
  },
  {
   "cell_type": "markdown",
   "id": "1cec2523",
   "metadata": {},
   "source": [
    "### 2. What is the difference between string and variable?"
   ]
  },
  {
   "cell_type": "code",
   "execution_count": 4,
   "id": "ee638ebe",
   "metadata": {},
   "outputs": [],
   "source": [
    "# String - Strings are always enclosed between \" \" or ''. They can be letters, numbers or symbols enclosed in inverted commas\n",
    "# Variable - Name given to a perticular memory loaction in which vale is stored. \n",
    "# eg. a = \"Assignment\" here, (a) is a variable and (Assignment) is a string"
   ]
  },
  {
   "cell_type": "markdown",
   "id": "3ea5925a",
   "metadata": {},
   "source": [
    "### 3. Describe three different data types."
   ]
  },
  {
   "cell_type": "code",
   "execution_count": 6,
   "id": "8cb5faa6",
   "metadata": {},
   "outputs": [
    {
     "name": "stdout",
     "output_type": "stream",
     "text": [
      "<class 'int'> <class 'str'> <class 'float'> <class 'bool'>\n"
     ]
    }
   ],
   "source": [
    "# Integer - This are positive or negative whole numbers without decimal points\n",
    "int = type(5) \n",
    "# String - Strings are always enclosed between \" \" or ''. They can be letters, numbers or symbols enclosed in inverted commas. \n",
    "string = type(\"7\")  \n",
    "#Float - This are floating point numbers , numbers with decimal point\n",
    "float = type(9.8) \n",
    "# Boolean - Values in the form of \"True\" or \"False\"\n",
    "Bool = type(True)  \n",
    "\n",
    "print(int,string,float,Bool)"
   ]
  },
  {
   "cell_type": "markdown",
   "id": "12cc1e1e",
   "metadata": {},
   "source": [
    "### 4. What is an expression made up of? What do all expressions do?"
   ]
  },
  {
   "cell_type": "code",
   "execution_count": 7,
   "id": "37734945",
   "metadata": {},
   "outputs": [],
   "source": [
    "#Expression describes a computation or operatiom performed on data. The interpretor evaluates the expression and desplays a result.\n",
    "#eg ?mathematical operators such as *,/,+,- etc ."
   ]
  },
  {
   "cell_type": "markdown",
   "id": "f1b10e26",
   "metadata": {},
   "source": [
    "### 5. This assignment statements, like spam = 10. What is the difference between an expression and a statement?"
   ]
  },
  {
   "cell_type": "code",
   "execution_count": 8,
   "id": "639e58f1",
   "metadata": {},
   "outputs": [],
   "source": [
    "# An expression evaluates a value it is a combination of variables, operations and values that yeild reults. \n",
    "# A statement represents an action or command . \n",
    "# Therefore, spam = 10 is a assignment statement where 10 is assigned a name spam.\n"
   ]
  },
  {
   "cell_type": "markdown",
   "id": "fcecb4b1",
   "metadata": {},
   "source": [
    "### 6. After running the following code, what does the variable bacon contain?"
   ]
  },
  {
   "cell_type": "code",
   "execution_count": 16,
   "id": "1b1faaa9",
   "metadata": {},
   "outputs": [
    {
     "name": "stdout",
     "output_type": "stream",
     "text": [
      "22\n"
     ]
    }
   ],
   "source": [
    "bacon = 22\n",
    "bacon + 1\n",
    "print(bacon)"
   ]
  },
  {
   "cell_type": "markdown",
   "id": "ac0e452f",
   "metadata": {},
   "source": [
    "### 7. What should the values of the following two terms be?"
   ]
  },
  {
   "cell_type": "code",
   "execution_count": 17,
   "id": "36035088",
   "metadata": {},
   "outputs": [
    {
     "data": {
      "text/plain": [
       "'spamspamspam'"
      ]
     },
     "execution_count": 17,
     "metadata": {},
     "output_type": "execute_result"
    }
   ],
   "source": [
    "'spam' + 'spamspam'"
   ]
  },
  {
   "cell_type": "code",
   "execution_count": 18,
   "id": "faf71b4c",
   "metadata": {},
   "outputs": [
    {
     "data": {
      "text/plain": [
       "'spamspamspam'"
      ]
     },
     "execution_count": 18,
     "metadata": {},
     "output_type": "execute_result"
    }
   ],
   "source": [
    "'spam' * 3"
   ]
  },
  {
   "cell_type": "markdown",
   "id": "bb2c9bf6",
   "metadata": {},
   "source": [
    "### 8. Why is eggs a valid variable name while 100 is invalid?"
   ]
  },
  {
   "cell_type": "code",
   "execution_count": 19,
   "id": "75c04850",
   "metadata": {},
   "outputs": [],
   "source": [
    "# A valid variable name starts with a letter, followed by letters, digits, or underscores.\n",
    "# 100 is digit but it has to be preceeded with a letter and egg is valid variable name"
   ]
  },
  {
   "cell_type": "code",
   "execution_count": 20,
   "id": "422d1fb1",
   "metadata": {},
   "outputs": [],
   "source": [
    "egg = 10"
   ]
  },
  {
   "cell_type": "code",
   "execution_count": 21,
   "id": "25759d7a",
   "metadata": {},
   "outputs": [
    {
     "ename": "SyntaxError",
     "evalue": "cannot assign to literal (1031011769.py, line 1)",
     "output_type": "error",
     "traceback": [
      "\u001b[0;36m  File \u001b[0;32m\"/var/folders/mh/69gz02v55vvffsgy8qdv_jdm0000gn/T/ipykernel_3916/1031011769.py\"\u001b[0;36m, line \u001b[0;32m1\u001b[0m\n\u001b[0;31m    100 = \"invalid variable name\"\u001b[0m\n\u001b[0m    ^\u001b[0m\n\u001b[0;31mSyntaxError\u001b[0m\u001b[0;31m:\u001b[0m cannot assign to literal\n"
     ]
    }
   ],
   "source": [
    "100 = \"invalid variable name\""
   ]
  },
  {
   "cell_type": "markdown",
   "id": "f7fd1181",
   "metadata": {},
   "source": [
    "### 9. What three functions can be used to get the integer, floating-point number, or string version of a value?"
   ]
  },
  {
   "cell_type": "code",
   "execution_count": 22,
   "id": "d7f81af1",
   "metadata": {},
   "outputs": [],
   "source": [
    "# The int() , float() , and str( ) "
   ]
  },
  {
   "cell_type": "markdown",
   "id": "538c86d6",
   "metadata": {},
   "source": [
    "### 10. Why does this expression cause an error? How can you fix it?\n",
    "### &#39;I have eaten &#39; + 99 + &#39; burritos.&#39;"
   ]
  },
  {
   "cell_type": "code",
   "execution_count": 24,
   "id": "f17af30f",
   "metadata": {},
   "outputs": [
    {
     "ename": "TypeError",
     "evalue": "can only concatenate str (not \"int\") to str",
     "output_type": "error",
     "traceback": [
      "\u001b[0;31m---------------------------------------------------------------------------\u001b[0m",
      "\u001b[0;31mTypeError\u001b[0m                                 Traceback (most recent call last)",
      "\u001b[0;32m/var/folders/mh/69gz02v55vvffsgy8qdv_jdm0000gn/T/ipykernel_3916/1486493540.py\u001b[0m in \u001b[0;36m<module>\u001b[0;34m\u001b[0m\n\u001b[0;32m----> 1\u001b[0;31m \u001b[0;34m'I have eaten'\u001b[0m\u001b[0;34m+\u001b[0m \u001b[0;36m99\u001b[0m \u001b[0;34m+\u001b[0m \u001b[0;34m'burritos'\u001b[0m\u001b[0;34m\u001b[0m\u001b[0;34m\u001b[0m\u001b[0m\n\u001b[0m",
      "\u001b[0;31mTypeError\u001b[0m: can only concatenate str (not \"int\") to str"
     ]
    }
   ],
   "source": [
    "'I have eaten'+ 99 + 'burritos'         # 99 is not a string, hence we cannot concatinate them "
   ]
  },
  {
   "cell_type": "code",
   "execution_count": 27,
   "id": "8182061c",
   "metadata": {},
   "outputs": [
    {
     "data": {
      "text/plain": [
       "'I have eaten 99 burritos'"
      ]
     },
     "execution_count": 27,
     "metadata": {},
     "output_type": "execute_result"
    }
   ],
   "source": [
    "Error_Fixed = 'I have eaten'+ ' 99 ' + 'burritos'\n",
    "Error_Fixed"
   ]
  }
 ],
 "metadata": {
  "kernelspec": {
   "display_name": "Python 3 (ipykernel)",
   "language": "python",
   "name": "python3"
  },
  "language_info": {
   "codemirror_mode": {
    "name": "ipython",
    "version": 3
   },
   "file_extension": ".py",
   "mimetype": "text/x-python",
   "name": "python",
   "nbconvert_exporter": "python",
   "pygments_lexer": "ipython3",
   "version": "3.9.7"
  }
 },
 "nbformat": 4,
 "nbformat_minor": 5
}
